{
 "cells": [
  {
   "cell_type": "code",
   "execution_count": null,
   "metadata": {},
   "outputs": [],
   "source": [
    "# --------- pytorch --------- #\n",
    "torch>=2.0.0\n",
    "torchvision>=0.15.0\n",
    "lightning>=2.0.0\n",
    "torchmetrics>=0.11.4\n",
    "\n",
    "# --------- hydra --------- #\n",
    "hydra-core==1.3.2\n",
    "hydra-colorlog==1.2.0\n",
    "hydra-optuna-sweeper==1.2.0\n",
    "\n",
    "# --------- loggers --------- #\n",
    "# wandb\n",
    "# neptune-client\n",
    "# mlflow\n",
    "# comet-ml\n",
    "# aim>=3.16.2  # no lower than 3.16.2, see https://github.com/aimhubio/aim/issues/2550\n",
    "\n",
    "# --------- others --------- #\n",
    "pyrootutils     # standardizing the project root setup\n",
    "pre-commit      # hooks for applying linters on commit\n",
    "rich            # beautiful text formatting in terminal\n",
    "pytest          # tests\n",
    "# sh            # for running bash commands in some tests (linux/macos only)\n"
   ]
  },
  {
   "cell_type": "code",
   "execution_count": 4,
   "metadata": {},
   "outputs": [
    {
     "name": "stdout",
     "output_type": "stream",
     "text": [
      "Requirement already satisfied: torch in /home/jaewoo/anaconda3/envs/torch_tutorial/lib/python3.9/site-packages (2.0.0)\n",
      "Collecting torch\n",
      "  Downloading torch-2.0.1-cp39-cp39-manylinux1_x86_64.whl (619.9 MB)\n",
      "\u001b[2K     \u001b[90m━━━━━━━━━━━━━━━━━━━━━━━━━━━━━━━━━━━━━━━\u001b[0m \u001b[32m619.9/619.9 MB\u001b[0m \u001b[31m4.4 MB/s\u001b[0m eta \u001b[36m0:00:00\u001b[0m00:01\u001b[0m00:02\u001b[0m\n",
      "\u001b[?25hRequirement already satisfied: torchvision in /home/jaewoo/anaconda3/envs/torch_tutorial/lib/python3.9/site-packages (0.14.1)\n",
      "Collecting torchvision\n",
      "  Downloading torchvision-0.15.2-cp39-cp39-manylinux1_x86_64.whl (6.0 MB)\n",
      "\u001b[2K     \u001b[90m━━━━━━━━━━━━━━━━━━━━━━━━━━━━━━━━━━━━━━━━\u001b[0m \u001b[32m6.0/6.0 MB\u001b[0m \u001b[31m10.8 MB/s\u001b[0m eta \u001b[36m0:00:00\u001b[0m00:01\u001b[0m00:01\u001b[0m\n",
      "\u001b[?25hRequirement already satisfied: nvidia-nccl-cu11==2.14.3 in /home/jaewoo/anaconda3/envs/torch_tutorial/lib/python3.9/site-packages (from torch) (2.14.3)\n",
      "Requirement already satisfied: nvidia-cublas-cu11==11.10.3.66 in /home/jaewoo/anaconda3/envs/torch_tutorial/lib/python3.9/site-packages (from torch) (11.10.3.66)\n",
      "Requirement already satisfied: networkx in /home/jaewoo/anaconda3/envs/torch_tutorial/lib/python3.9/site-packages (from torch) (2.8.4)\n",
      "Requirement already satisfied: nvidia-cufft-cu11==10.9.0.58 in /home/jaewoo/anaconda3/envs/torch_tutorial/lib/python3.9/site-packages (from torch) (10.9.0.58)\n",
      "Requirement already satisfied: nvidia-cusolver-cu11==11.4.0.1 in /home/jaewoo/anaconda3/envs/torch_tutorial/lib/python3.9/site-packages (from torch) (11.4.0.1)\n",
      "Requirement already satisfied: triton==2.0.0 in /home/jaewoo/anaconda3/envs/torch_tutorial/lib/python3.9/site-packages (from torch) (2.0.0)\n",
      "Requirement already satisfied: typing-extensions in /home/jaewoo/anaconda3/envs/torch_tutorial/lib/python3.9/site-packages (from torch) (4.3.0)\n",
      "Requirement already satisfied: jinja2 in /home/jaewoo/anaconda3/envs/torch_tutorial/lib/python3.9/site-packages (from torch) (2.11.3)\n",
      "Requirement already satisfied: nvidia-curand-cu11==10.2.10.91 in /home/jaewoo/anaconda3/envs/torch_tutorial/lib/python3.9/site-packages (from torch) (10.2.10.91)\n",
      "Requirement already satisfied: nvidia-cusparse-cu11==11.7.4.91 in /home/jaewoo/anaconda3/envs/torch_tutorial/lib/python3.9/site-packages (from torch) (11.7.4.91)\n",
      "Requirement already satisfied: nvidia-cudnn-cu11==8.5.0.96 in /home/jaewoo/anaconda3/envs/torch_tutorial/lib/python3.9/site-packages (from torch) (8.5.0.96)\n",
      "Requirement already satisfied: nvidia-cuda-runtime-cu11==11.7.99 in /home/jaewoo/anaconda3/envs/torch_tutorial/lib/python3.9/site-packages (from torch) (11.7.99)\n",
      "Requirement already satisfied: filelock in /home/jaewoo/anaconda3/envs/torch_tutorial/lib/python3.9/site-packages (from torch) (3.6.0)\n",
      "Requirement already satisfied: nvidia-cuda-cupti-cu11==11.7.101 in /home/jaewoo/anaconda3/envs/torch_tutorial/lib/python3.9/site-packages (from torch) (11.7.101)\n",
      "Requirement already satisfied: nvidia-nvtx-cu11==11.7.91 in /home/jaewoo/anaconda3/envs/torch_tutorial/lib/python3.9/site-packages (from torch) (11.7.91)\n",
      "Requirement already satisfied: nvidia-cuda-nvrtc-cu11==11.7.99 in /home/jaewoo/anaconda3/envs/torch_tutorial/lib/python3.9/site-packages (from torch) (11.7.99)\n",
      "Requirement already satisfied: sympy in /home/jaewoo/anaconda3/envs/torch_tutorial/lib/python3.9/site-packages (from torch) (1.10.1)\n",
      "Requirement already satisfied: wheel in /home/jaewoo/anaconda3/envs/torch_tutorial/lib/python3.9/site-packages (from nvidia-cublas-cu11==11.10.3.66->torch) (0.37.1)\n",
      "Requirement already satisfied: setuptools in /home/jaewoo/anaconda3/envs/torch_tutorial/lib/python3.9/site-packages (from nvidia-cublas-cu11==11.10.3.66->torch) (67.7.1)\n",
      "Requirement already satisfied: cmake in /home/jaewoo/anaconda3/envs/torch_tutorial/lib/python3.9/site-packages (from triton==2.0.0->torch) (3.26.3)\n",
      "Requirement already satisfied: lit in /home/jaewoo/anaconda3/envs/torch_tutorial/lib/python3.9/site-packages (from triton==2.0.0->torch) (16.0.2)\n",
      "Requirement already satisfied: pillow!=8.3.*,>=5.3.0 in /home/jaewoo/anaconda3/envs/torch_tutorial/lib/python3.9/site-packages (from torchvision) (9.2.0)\n",
      "Requirement already satisfied: numpy in /home/jaewoo/anaconda3/envs/torch_tutorial/lib/python3.9/site-packages (from torchvision) (1.23.5)\n",
      "Requirement already satisfied: requests in /home/jaewoo/anaconda3/envs/torch_tutorial/lib/python3.9/site-packages (from torchvision) (2.28.1)\n",
      "Requirement already satisfied: MarkupSafe>=0.23 in /home/jaewoo/anaconda3/envs/torch_tutorial/lib/python3.9/site-packages (from jinja2->torch) (2.0.1)\n",
      "Requirement already satisfied: urllib3<1.27,>=1.21.1 in /home/jaewoo/anaconda3/envs/torch_tutorial/lib/python3.9/site-packages (from requests->torchvision) (1.26.11)\n",
      "Requirement already satisfied: idna<4,>=2.5 in /home/jaewoo/anaconda3/envs/torch_tutorial/lib/python3.9/site-packages (from requests->torchvision) (3.3)\n",
      "Requirement already satisfied: charset-normalizer<3,>=2 in /home/jaewoo/anaconda3/envs/torch_tutorial/lib/python3.9/site-packages (from requests->torchvision) (2.0.4)\n",
      "Requirement already satisfied: certifi>=2017.4.17 in /home/jaewoo/anaconda3/envs/torch_tutorial/lib/python3.9/site-packages (from requests->torchvision) (2022.9.14)\n",
      "Requirement already satisfied: mpmath>=0.19 in /home/jaewoo/anaconda3/envs/torch_tutorial/lib/python3.9/site-packages (from sympy->torch) (1.2.1)\n",
      "Installing collected packages: torch, torchvision\n",
      "  Attempting uninstall: torch\n",
      "    Found existing installation: torch 2.0.0\n",
      "    Uninstalling torch-2.0.0:\n",
      "      Successfully uninstalled torch-2.0.0\n",
      "  Attempting uninstall: torchvision\n",
      "    Found existing installation: torchvision 0.14.1\n",
      "    Uninstalling torchvision-0.14.1:\n",
      "      Successfully uninstalled torchvision-0.14.1\n",
      "Successfully installed torch-2.0.1 torchvision-0.15.2\n",
      "Note: you may need to restart the kernel to use updated packages.\n"
     ]
    }
   ],
   "source": [
    "pip install --upgrade torch torchvision"
   ]
  },
  {
   "cell_type": "code",
   "execution_count": 3,
   "metadata": {},
   "outputs": [
    {
     "name": "stdout",
     "output_type": "stream",
     "text": [
      "Requirement already satisfied: hydra-colorlog in /home/jaewoo/anaconda3/envs/torch_tutorial/lib/python3.9/site-packages (1.2.0)\n",
      "Requirement already satisfied: colorlog in /home/jaewoo/anaconda3/envs/torch_tutorial/lib/python3.9/site-packages (from hydra-colorlog) (6.7.0)\n",
      "Requirement already satisfied: hydra-core>=1.0.0 in /home/jaewoo/anaconda3/envs/torch_tutorial/lib/python3.9/site-packages (from hydra-colorlog) (1.3.2)\n",
      "Requirement already satisfied: omegaconf<2.4,>=2.2 in /home/jaewoo/anaconda3/envs/torch_tutorial/lib/python3.9/site-packages (from hydra-core>=1.0.0->hydra-colorlog) (2.3.0)\n",
      "Requirement already satisfied: antlr4-python3-runtime==4.9.* in /home/jaewoo/anaconda3/envs/torch_tutorial/lib/python3.9/site-packages (from hydra-core>=1.0.0->hydra-colorlog) (4.9.3)\n",
      "Requirement already satisfied: packaging in /home/jaewoo/anaconda3/envs/torch_tutorial/lib/python3.9/site-packages (from hydra-core>=1.0.0->hydra-colorlog) (21.3)\n",
      "Requirement already satisfied: PyYAML>=5.1.0 in /home/jaewoo/anaconda3/envs/torch_tutorial/lib/python3.9/site-packages (from omegaconf<2.4,>=2.2->hydra-core>=1.0.0->hydra-colorlog) (6.0)\n",
      "Requirement already satisfied: pyparsing!=3.0.5,>=2.0.2 in /home/jaewoo/anaconda3/envs/torch_tutorial/lib/python3.9/site-packages (from packaging->hydra-core>=1.0.0->hydra-colorlog) (3.0.9)\n",
      "Note: you may need to restart the kernel to use updated packages.\n"
     ]
    }
   ],
   "source": [
    "pip install hydra-colorlog"
   ]
  }
 ],
 "metadata": {
  "kernelspec": {
   "display_name": "torch_tutorial",
   "language": "python",
   "name": "python3"
  },
  "language_info": {
   "codemirror_mode": {
    "name": "ipython",
    "version": 3
   },
   "file_extension": ".py",
   "mimetype": "text/x-python",
   "name": "python",
   "nbconvert_exporter": "python",
   "pygments_lexer": "ipython3",
   "version": "3.9.13"
  },
  "orig_nbformat": 4
 },
 "nbformat": 4,
 "nbformat_minor": 2
}
